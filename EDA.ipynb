{
 "cells": [
  {
   "cell_type": "markdown",
   "metadata": {},
   "source": [
    "# EDA"
   ]
  },
  {
   "cell_type": "markdown",
   "metadata": {},
   "source": [
    "### Importaciones"
   ]
  },
  {
   "cell_type": "code",
   "execution_count": 1,
   "metadata": {},
   "outputs": [],
   "source": [
    "from helpers.helper import load_all, save_one\n",
    "from classes.Peliculas import Pelicula\n",
    "from classes.Usuarios import Usuario\n",
    "from classes.Personas import Persona\n",
    "from classes.Trabajadores import Trabajador\n",
    "from classes.Scores import Score\n",
    "\n",
    "import pandas as pd\n",
    "from  matplotlib import pyplot as plt\n",
    "from datetime import datetime"
   ]
  },
  {
   "cell_type": "markdown",
   "metadata": {},
   "source": [
    "### Carga de dataframes"
   ]
  },
  {
   "cell_type": "code",
   "execution_count": 2,
   "metadata": {},
   "outputs": [],
   "source": [
    "df_movies, df_people, df_scores, df_workers, df_users = load_all('data/peliculas.csv', 'data/personas.csv', 'data/scores.csv', 'data/trabajadores.csv', 'data/usuarios.csv')"
   ]
  },
  {
   "cell_type": "markdown",
   "metadata": {},
   "source": [
    "## I. Películas"
   ]
  },
  {
   "cell_type": "markdown",
   "metadata": {},
   "source": [
    "#### A. Instanciación de película"
   ]
  },
  {
   "cell_type": "code",
   "execution_count": 3,
   "metadata": {},
   "outputs": [],
   "source": [
    "peli_1 = Pelicula(\n",
    "    nombre='Pelicula mala',\n",
    "    anio=\"01-Jan-1994\",\n",
    "    generos=['Comedy', 'Romance', 'Mystery'],\n",
    "    imdb_url=None,\n",
    "    id=None)\n",
    "\n",
    "peli_1\n"
   ]
  },
  {
   "cell_type": "markdown",
   "metadata": {},
   "source": [
    "#### B. Escribir película"
   ]
  },
  {
   "cell_type": "code",
   "execution_count": 4,
   "metadata": {},
   "outputs": [],
   "source": [
    "new_df = peli_1.write_df(df_movies)\n",
    "\n",
    "new_df\n"
   ]
  },
  {
   "cell_type": "markdown",
   "metadata": {},
   "source": [
    "#### C. Guardar película"
   ]
  },
  {
   "cell_type": "code",
   "execution_count": 5,
   "metadata": {},
   "outputs": [],
   "source": [
    "save_one('data/peliculas.csv', new_df)"
   ]
  },
  {
   "cell_type": "markdown",
   "metadata": {},
   "source": [
    "#### D. Eliminar del dataframe"
   ]
  },
  {
   "cell_type": "code",
   "execution_count": 6,
   "metadata": {},
   "outputs": [],
   "source": [
    "peli_1.id = 1683\n",
    "new_df2 = peli_1.remove_from_df(new_df)\n",
    "\n",
    "save_one('data/peliculas.csv', new_df2)"
   ]
  },
  {
   "cell_type": "markdown",
   "metadata": {},
   "source": [
    "#### E. Buscar película"
   ]
  },
  {
   "cell_type": "code",
   "execution_count": 11,
   "metadata": {},
   "outputs": [],
   "source": [
    "df_by_date = Pelicula.get_from_df(df_movies, anios=['01-Jan-1994','01-Jan-1995'])\n",
    "df_by_id = Pelicula.get_from_df(df_movies, id=1500)\n",
    "df_by_name = Pelicula.get_from_df(df_movies, nombre=\"Toy Story (1995)\")\n",
    "df_by_genre = Pelicula.get_from_df(df_movies, generos=['Adventure', 'Animation'])"
   ]
  },
  {
   "cell_type": "markdown",
   "metadata": {},
   "source": [
    "#### F. Estadísticas"
   ]
  },
  {
   "cell_type": "code",
   "execution_count": 5,
   "metadata": {},
   "outputs": [],
   "source": [
    "\n",
    "Pelicula.get_stats(df_movies, df_scores, anios=['01-Jan-1995', '01-Jan-2022'], generos=['Action'])"
   ]
  },
  {
   "cell_type": "markdown",
   "metadata": {},
   "source": [
    "## Otras estadísticas"
   ]
  },
  {
   "cell_type": "markdown",
   "metadata": {},
   "source": [
    "##### A. Scores:"
   ]
  },
  {
   "cell_type": "code",
   "execution_count": 6,
   "metadata": {},
   "outputs": [],
   "source": [
    "df_group_by_year, df_group_by_gender, df_group_by_occupation = Score.get_stats(df_movies,df_scores, df_people, df_users)\n",
    "\n",
    "print(\"\\n\\n Scores agrupados por año \\n\\n\")\n",
    "df_group_by_year.head()\n",
    "\n",
    "# print(\"\\n\\n Scores agrupados por género \\n\\n\")\n",
    "# df_group_by_gender.head()\n",
    "\n",
    "# print(\"\\n\\n Scores agrupados por ocupación \\n\\n\")\n",
    "# df_group_by_occupation.head()"
   ]
  },
  {
   "cell_type": "markdown",
   "metadata": {},
   "source": [
    "##### B. Usuarios:"
   ]
  },
  {
   "cell_type": "code",
   "execution_count": 8,
   "metadata": {},
   "outputs": [
    {
     "name": "stdout",
     "output_type": "stream",
     "text": [
      "Cantidad total de usuarios\n",
      "943\n"
     ]
    },
    {
     "data": {
      "text/html": [
       "<div>\n",
       "<style scoped>\n",
       "    .dataframe tbody tr th:only-of-type {\n",
       "        vertical-align: middle;\n",
       "    }\n",
       "\n",
       "    .dataframe tbody tr th {\n",
       "        vertical-align: top;\n",
       "    }\n",
       "\n",
       "    .dataframe thead th {\n",
       "        text-align: right;\n",
       "    }\n",
       "</style>\n",
       "<table border=\"1\" class=\"dataframe\">\n",
       "  <thead>\n",
       "    <tr style=\"text-align: right;\">\n",
       "      <th></th>\n",
       "      <th>id</th>\n",
       "      <th>Occupation</th>\n",
       "      <th>Active Since</th>\n",
       "      <th>Full Name</th>\n",
       "      <th>Gender</th>\n",
       "      <th>Zip Code</th>\n",
       "    </tr>\n",
       "    <tr>\n",
       "      <th>year of birth</th>\n",
       "      <th></th>\n",
       "      <th></th>\n",
       "      <th></th>\n",
       "      <th></th>\n",
       "      <th></th>\n",
       "      <th></th>\n",
       "    </tr>\n",
       "  </thead>\n",
       "  <tbody>\n",
       "    <tr>\n",
       "      <th>1925</th>\n",
       "      <td>1</td>\n",
       "      <td>1</td>\n",
       "      <td>1</td>\n",
       "      <td>1</td>\n",
       "      <td>1</td>\n",
       "      <td>1</td>\n",
       "    </tr>\n",
       "    <tr>\n",
       "      <th>1928</th>\n",
       "      <td>3</td>\n",
       "      <td>3</td>\n",
       "      <td>3</td>\n",
       "      <td>3</td>\n",
       "      <td>3</td>\n",
       "      <td>3</td>\n",
       "    </tr>\n",
       "    <tr>\n",
       "      <th>1929</th>\n",
       "      <td>2</td>\n",
       "      <td>2</td>\n",
       "      <td>2</td>\n",
       "      <td>2</td>\n",
       "      <td>2</td>\n",
       "      <td>2</td>\n",
       "    </tr>\n",
       "    <tr>\n",
       "      <th>1930</th>\n",
       "      <td>2</td>\n",
       "      <td>2</td>\n",
       "      <td>2</td>\n",
       "      <td>2</td>\n",
       "      <td>2</td>\n",
       "      <td>2</td>\n",
       "    </tr>\n",
       "    <tr>\n",
       "      <th>1932</th>\n",
       "      <td>1</td>\n",
       "      <td>1</td>\n",
       "      <td>1</td>\n",
       "      <td>1</td>\n",
       "      <td>1</td>\n",
       "      <td>1</td>\n",
       "    </tr>\n",
       "    <tr>\n",
       "      <th>...</th>\n",
       "      <td>...</td>\n",
       "      <td>...</td>\n",
       "      <td>...</td>\n",
       "      <td>...</td>\n",
       "      <td>...</td>\n",
       "      <td>...</td>\n",
       "    </tr>\n",
       "    <tr>\n",
       "      <th>1984</th>\n",
       "      <td>3</td>\n",
       "      <td>3</td>\n",
       "      <td>3</td>\n",
       "      <td>3</td>\n",
       "      <td>3</td>\n",
       "      <td>3</td>\n",
       "    </tr>\n",
       "    <tr>\n",
       "      <th>1985</th>\n",
       "      <td>5</td>\n",
       "      <td>5</td>\n",
       "      <td>5</td>\n",
       "      <td>5</td>\n",
       "      <td>5</td>\n",
       "      <td>5</td>\n",
       "    </tr>\n",
       "    <tr>\n",
       "      <th>1987</th>\n",
       "      <td>1</td>\n",
       "      <td>1</td>\n",
       "      <td>1</td>\n",
       "      <td>1</td>\n",
       "      <td>1</td>\n",
       "      <td>1</td>\n",
       "    </tr>\n",
       "    <tr>\n",
       "      <th>1988</th>\n",
       "      <td>1</td>\n",
       "      <td>1</td>\n",
       "      <td>1</td>\n",
       "      <td>1</td>\n",
       "      <td>1</td>\n",
       "      <td>1</td>\n",
       "    </tr>\n",
       "    <tr>\n",
       "      <th>1991</th>\n",
       "      <td>1</td>\n",
       "      <td>1</td>\n",
       "      <td>1</td>\n",
       "      <td>1</td>\n",
       "      <td>1</td>\n",
       "      <td>1</td>\n",
       "    </tr>\n",
       "  </tbody>\n",
       "</table>\n",
       "<p>61 rows × 6 columns</p>\n",
       "</div>"
      ],
      "text/plain": [
       "               id  Occupation  Active Since  Full Name  Gender  Zip Code\n",
       "year of birth                                                           \n",
       "1925            1           1             1          1       1         1\n",
       "1928            3           3             3          3       3         3\n",
       "1929            2           2             2          2       2         2\n",
       "1930            2           2             2          2       2         2\n",
       "1932            1           1             1          1       1         1\n",
       "...            ..         ...           ...        ...     ...       ...\n",
       "1984            3           3             3          3       3         3\n",
       "1985            5           5             5          5       5         5\n",
       "1987            1           1             1          1       1         1\n",
       "1988            1           1             1          1       1         1\n",
       "1991            1           1             1          1       1         1\n",
       "\n",
       "[61 rows x 6 columns]"
      ]
     },
     "execution_count": 8,
     "metadata": {},
     "output_type": "execute_result"
    }
   ],
   "source": [
    "total_users, users_by_occupation, users_by_year_birth = Usuario.get_stats(df_people, df_users)\n",
    "\n",
    "print(\"Cantidad total de usuarios\")\n",
    "print(total_users)\n",
    "\n",
    "print(\"Usuarios por ocupación\")\n",
    "users_by_occupation\n",
    "\n",
    "print(\"Usuarios por año de nacimiento\")\n",
    "users_by_year_birth\n"
   ]
  },
  {
   "cell_type": "markdown",
   "metadata": {},
   "source": [
    "## Otras clases"
   ]
  },
  {
   "cell_type": "markdown",
   "metadata": {},
   "source": [
    "#### A. Persona"
   ]
  },
  {
   "cell_type": "code",
   "execution_count": 14,
   "metadata": {},
   "outputs": [],
   "source": [
    "persona = Persona(\n",
    "  full_name=\"Nombre Apellido\",\n",
    "  year_of_birth=\"1989\",\n",
    "  gender=\"M\",\n",
    "  zipcode=1234\n",
    ")\n",
    "\n",
    "df_p = persona.write_df(df_people)\n",
    "df1_p = persona.remove_from_df(df_p)"
   ]
  },
  {
   "cell_type": "markdown",
   "metadata": {},
   "source": [
    "#### B. Usuario"
   ]
  },
  {
   "cell_type": "code",
   "execution_count": 5,
   "metadata": {},
   "outputs": [
    {
     "data": {
      "text/html": [
       "<div>\n",
       "<style scoped>\n",
       "    .dataframe tbody tr th:only-of-type {\n",
       "        vertical-align: middle;\n",
       "    }\n",
       "\n",
       "    .dataframe tbody tr th {\n",
       "        vertical-align: top;\n",
       "    }\n",
       "\n",
       "    .dataframe thead th {\n",
       "        text-align: right;\n",
       "    }\n",
       "</style>\n",
       "<table border=\"1\" class=\"dataframe\">\n",
       "  <thead>\n",
       "    <tr style=\"text-align: right;\">\n",
       "      <th></th>\n",
       "      <th>id</th>\n",
       "      <th>user_id</th>\n",
       "      <th>movie_id</th>\n",
       "      <th>rating</th>\n",
       "      <th>Date</th>\n",
       "    </tr>\n",
       "  </thead>\n",
       "  <tbody>\n",
       "    <tr>\n",
       "      <th>0</th>\n",
       "      <td>0</td>\n",
       "      <td>196</td>\n",
       "      <td>242</td>\n",
       "      <td>3</td>\n",
       "      <td>1997-12-04 15:55:49</td>\n",
       "    </tr>\n",
       "    <tr>\n",
       "      <th>1</th>\n",
       "      <td>1</td>\n",
       "      <td>186</td>\n",
       "      <td>302</td>\n",
       "      <td>3</td>\n",
       "      <td>1998-04-04 19:22:22</td>\n",
       "    </tr>\n",
       "    <tr>\n",
       "      <th>2</th>\n",
       "      <td>2</td>\n",
       "      <td>22</td>\n",
       "      <td>377</td>\n",
       "      <td>1</td>\n",
       "      <td>1997-11-07 07:18:36</td>\n",
       "    </tr>\n",
       "    <tr>\n",
       "      <th>3</th>\n",
       "      <td>3</td>\n",
       "      <td>244</td>\n",
       "      <td>51</td>\n",
       "      <td>2</td>\n",
       "      <td>1997-11-27 05:02:03</td>\n",
       "    </tr>\n",
       "    <tr>\n",
       "      <th>4</th>\n",
       "      <td>4</td>\n",
       "      <td>166</td>\n",
       "      <td>346</td>\n",
       "      <td>1</td>\n",
       "      <td>1998-02-02 05:33:16</td>\n",
       "    </tr>\n",
       "    <tr>\n",
       "      <th>...</th>\n",
       "      <td>...</td>\n",
       "      <td>...</td>\n",
       "      <td>...</td>\n",
       "      <td>...</td>\n",
       "      <td>...</td>\n",
       "    </tr>\n",
       "    <tr>\n",
       "      <th>99995</th>\n",
       "      <td>99995</td>\n",
       "      <td>880</td>\n",
       "      <td>476</td>\n",
       "      <td>3</td>\n",
       "      <td>1997-11-22 05:10:44</td>\n",
       "    </tr>\n",
       "    <tr>\n",
       "      <th>99996</th>\n",
       "      <td>99996</td>\n",
       "      <td>716</td>\n",
       "      <td>204</td>\n",
       "      <td>5</td>\n",
       "      <td>1997-11-17 19:39:03</td>\n",
       "    </tr>\n",
       "    <tr>\n",
       "      <th>99997</th>\n",
       "      <td>99997</td>\n",
       "      <td>276</td>\n",
       "      <td>1090</td>\n",
       "      <td>1</td>\n",
       "      <td>1997-09-20 22:49:55</td>\n",
       "    </tr>\n",
       "    <tr>\n",
       "      <th>99998</th>\n",
       "      <td>99998</td>\n",
       "      <td>13</td>\n",
       "      <td>225</td>\n",
       "      <td>2</td>\n",
       "      <td>1997-12-17 22:52:36</td>\n",
       "    </tr>\n",
       "    <tr>\n",
       "      <th>99999</th>\n",
       "      <td>99999</td>\n",
       "      <td>12</td>\n",
       "      <td>203</td>\n",
       "      <td>3</td>\n",
       "      <td>1997-11-19 17:13:03</td>\n",
       "    </tr>\n",
       "  </tbody>\n",
       "</table>\n",
       "<p>100000 rows × 5 columns</p>\n",
       "</div>"
      ],
      "text/plain": [
       "          id  user_id  movie_id  rating                 Date\n",
       "0          0      196       242       3  1997-12-04 15:55:49\n",
       "1          1      186       302       3  1998-04-04 19:22:22\n",
       "2          2       22       377       1  1997-11-07 07:18:36\n",
       "3          3      244        51       2  1997-11-27 05:02:03\n",
       "4          4      166       346       1  1998-02-02 05:33:16\n",
       "...      ...      ...       ...     ...                  ...\n",
       "99995  99995      880       476       3  1997-11-22 05:10:44\n",
       "99996  99996      716       204       5  1997-11-17 19:39:03\n",
       "99997  99997      276      1090       1  1997-09-20 22:49:55\n",
       "99998  99998       13       225       2  1997-12-17 22:52:36\n",
       "99999  99999       12       203       3  1997-11-19 17:13:03\n",
       "\n",
       "[100000 rows x 5 columns]"
      ]
     },
     "execution_count": 5,
     "metadata": {},
     "output_type": "execute_result"
    }
   ],
   "source": [
    "usuario = Usuario(\n",
    "  occupation=\"Profesor\",\n",
    "  active_since=datetime.now(),\n",
    "  id=None,\n",
    "  full_name=\"Nombre Apellido\",\n",
    "  year_of_birth=\"1989\",\n",
    "  gender=\"M\",\n",
    "  zipcode=1234\n",
    ")\n",
    "\n",
    "df_u = usuario.write_df(df_users)\n",
    "df1_u = usuario.remove_from_df(df_u)\n"
   ]
  },
  {
   "cell_type": "markdown",
   "metadata": {},
   "source": [
    "#### C. Trabajador"
   ]
  },
  {
   "cell_type": "code",
   "execution_count": 15,
   "metadata": {},
   "outputs": [],
   "source": [
    "trabajador = Trabajador(\n",
    "  position =\"Analyst\", \n",
    "  category =\"b\", \n",
    "  working_hours=9, \n",
    "  start_date=\"1998-03-30\",\n",
    "  full_name=\"Nombre Apellido\",\n",
    "  year_of_birth=\"1989\",\n",
    "  gender=\"M\",\n",
    "  zipcode=1234\n",
    ")\n",
    "\n",
    "df_w = trabajador.write_df(df_workers)\n",
    "df_w2 =trabajador.remove_from_df(df_w)"
   ]
  },
  {
   "cell_type": "markdown",
   "metadata": {},
   "source": [
    "#### D. Scores"
   ]
  },
  {
   "cell_type": "code",
   "execution_count": null,
   "metadata": {},
   "outputs": [],
   "source": [
    "score = Score(\n",
    "  user_id=1, \n",
    "  movie_id=2, \n",
    "  rating=3, \n",
    "  date=\"1997-12-04 15:55:49\", \n",
    "  id=None\n",
    ")\n",
    "\n",
    "df_s = score.write_df(df_scores)\n",
    "df_s2 =score.remove_from_df(df_s)\n"
   ]
  }
 ],
 "metadata": {
  "kernelspec": {
   "display_name": "tp_python",
   "language": "python",
   "name": "python3"
  },
  "language_info": {
   "codemirror_mode": {
    "name": "ipython",
    "version": 3
   },
   "file_extension": ".py",
   "mimetype": "text/x-python",
   "name": "python",
   "nbconvert_exporter": "python",
   "pygments_lexer": "ipython3",
   "version": "3.9.19"
  }
 },
 "nbformat": 4,
 "nbformat_minor": 2
}
